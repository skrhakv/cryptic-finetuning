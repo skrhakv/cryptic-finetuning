{
 "cells": [
  {
   "cell_type": "code",
   "execution_count": 4,
   "metadata": {},
   "outputs": [
    {
     "name": "stdout",
     "output_type": "stream",
     "text": [
      "   0.000    1.151    0.369    0.642    0.304    0.924    0.985    0.158    0.637    1.038 \n",
      "   1.151    0.000    0.964    0.844    1.003    0.819    0.178    1.180    0.897    0.895 \n",
      "   0.369    0.964    0.000    0.289    0.489    0.607    0.813    0.306    0.532    0.765 \n",
      "   0.642    0.844    0.289    0.000    0.729    0.334    0.714    0.563    0.668    0.522 \n",
      "   0.304    1.003    0.489    0.729    0.000    1.010    0.854    0.446    0.466    1.141 \n",
      "   0.924    0.819    0.607    0.334    1.010    0.000    0.716    0.837    0.959    0.218 \n",
      "   0.985    0.178    0.813    0.714    0.854    0.716    0.000    1.013    0.804    0.794 \n",
      "   0.158    1.180    0.306    0.563    0.446    0.837    1.013    0.000    0.702    0.946 \n",
      "   0.637    0.897    0.532    0.668    0.466    0.959    0.804    0.702    0.000    1.149 \n",
      "   1.038    0.895    0.765    0.522    1.141    0.218    0.794    0.946    1.149    0.000 \n"
     ]
    }
   ],
   "source": [
    "import numpy as np\n",
    "from scipy.spatial import distance_matrix\n",
    "\n",
    "DATA_PATH = '/home/vit/Projects/cryptic-nn/data'\n",
    "\n",
    "coords = np.random.rand(10, 3)  # mimicking your 3-D coordinates.\n",
    "\n",
    "dis_mat = distance_matrix(coords, coords)\n",
    "dis_mat\n",
    "\n",
    "def print_distance_matrix(a):\n",
    "    for row in a:\n",
    "        for col in row:\n",
    "            print(\"{:8.3f}\".format(col), end=\" \")\n",
    "        print(\"\")\n",
    "\n",
    "print_distance_matrix(dis_mat)\n"
   ]
  },
  {
   "cell_type": "markdown",
   "metadata": {},
   "source": [
    "## CAUTION\n",
    "You need to add a library from a [separate project](https://github.com/skrhakv/deeplife-project/blob/master/src/deeplife_utils.py) (update the `sys.path.append(...)` path). "
   ]
  },
  {
   "cell_type": "code",
   "execution_count": null,
   "metadata": {},
   "outputs": [],
   "source": [
    "import numpy as np\n",
    "import sys\n",
    "import os\n",
    "sys.path.append('/home/vit/Projects/deeplife-project/src')\n",
    "from deeplife_utils import get_c_alphas\n",
    "\n",
    "INPUT_PATH = f'{DATA_PATH}/apo-sequence-annotations'\n",
    "OUTPUT_PATH = f'{DATA_PATH}/apo-distance-matrices'\n",
    "\n",
    "results = get_c_alphas(INPUT_PATH)\n",
    "os.makedirs(OUTPUT_PATH, exist_ok=True)\n",
    "\n",
    "for id, c_alphas in results.items():\n",
    "    with open(f'{OUTPUT_PATH}/{id}.npy', 'wb') as f:\n",
    "        np.save(f, distance_matrix(c_alphas.coord, c_alphas.coord))\n",
    "\n"
   ]
  }
 ],
 "metadata": {
  "kernelspec": {
   "display_name": "usr",
   "language": "python",
   "name": "python3"
  },
  "language_info": {
   "codemirror_mode": {
    "name": "ipython",
    "version": 3
   },
   "file_extension": ".py",
   "mimetype": "text/x-python",
   "name": "python",
   "nbconvert_exporter": "python",
   "pygments_lexer": "ipython3",
   "version": "3.11.6"
  }
 },
 "nbformat": 4,
 "nbformat_minor": 2
}
