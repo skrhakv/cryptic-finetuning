{
 "cells": [
  {
   "cell_type": "code",
   "execution_count": 3,
   "id": "2a4a285f",
   "metadata": {},
   "outputs": [],
   "source": [
    "import sys\n",
    "import torch\n",
    "import numpy as np\n",
    "from transformers import AutoTokenizer\n",
    "import functools\n",
    "\n",
    "sys.path.append('/home/skrhakv/cryptic-nn/src/models')\n",
    "import baseline_utils\n",
    "import finetuning_utils\n",
    "from finetuning_utils import MultitaskFinetunedEsmModel\n",
    "\n",
    "MODEL = 'baseline-model'\n",
    "MODEL_PATH = f'/home/skrhakv/cryptic-nn/src/models/train-models/{MODEL}.pt'\n",
    "MAX_LENGTH = 1024\n",
    "\n",
    "DATASET = 'cryptobench'\n",
    "DATA_PATH = f'/home/skrhakv/cryptic-nn/data/{DATASET}'\n",
    "ESM_EMBEDDINGS_PATH = f'{DATA_PATH}/embeddings'\n",
    "ESM_MODEL_NAME = 'facebook/esm2_t36_3B_UR50D'\n",
    "\n",
    "device = torch.device('cuda' if torch.cuda.is_available() else 'cpu')\n",
    "\n",
    "Xs_test_apo, Ys_test_apo = baseline_utils.process_sequence_dataset(f'/home/skrhakv/cryptic-nn/data/cryptobench/test.txt', [ESM_EMBEDDINGS_PATH])\n",
    "baseline_model = torch.load(MODEL_PATH, weights_only=False).to(device)\n"
   ]
  },
  {
   "cell_type": "code",
   "execution_count": 26,
   "id": "5665a5e2",
   "metadata": {},
   "outputs": [],
   "source": [
    "for protein_id, embedding in Xs_test_apo.items():\n",
    "    embedding = torch.tensor(embedding, dtype=torch.float32).to(device)\n",
    "    prediction = baseline_model(embedding).squeeze(1).detach().cpu().numpy()\n",
    "    np.save(f'/home/skrhakv/cryptic-nn/src/models/predict/predictions/baseline/{protein_id}.npy', prediction)\n",
    "    np.save(f'/home/skrhakv/cryptic-nn/src/models/predict/ground-truth/baseline/{protein_id}.npy', Ys_test_apo[protein_id])\n"
   ]
  },
  {
   "cell_type": "code",
   "execution_count": null,
   "id": "942b12ee",
   "metadata": {},
   "outputs": [],
   "source": [
    "MODEL = 'multitask-finetuned-model-with-ligysis'\n",
    "MODEL_PATH = f'/home/skrhakv/cryptic-nn/src/models/train-models/{MODEL}.pt'\n",
    "\n",
    "finetuned_model = torch.load(MODEL_PATH, weights_only=False).to(device)\n",
    "tokenizer = AutoTokenizer.from_pretrained(ESM_MODEL_NAME)\n",
    "\n",
    "val_dataset = finetuning_utils.process_sequence_dataset('/home/skrhakv/cryptic-nn/data/cryptobench/test.txt', tokenizer, load_ids=True)\n",
    "\n",
    "partial_collate_fn = functools.partial(finetuning_utils.collate_fn, tokenizer=tokenizer)\n",
    "finetuned_model.eval()\n"
   ]
  },
  {
   "cell_type": "code",
   "execution_count": 36,
   "id": "1e67f86e",
   "metadata": {},
   "outputs": [],
   "source": [
    "def predict(model, tokenized_sequences):\n",
    "    tokenized_sequences = {k: torch.tensor([v]).to(device) for k,v in tokenized_sequences.items()}\n",
    "    output, _, _ = model(tokenized_sequences)\n",
    "    output = output.flatten()\n",
    "\n",
    "    mask = (tokenized_sequences['attention_mask'] == 1).flatten()\n",
    "    return torch.sigmoid(output[mask][1:-1]).detach().cpu().numpy()\n",
    "\n",
    "for i in val_dataset:\n",
    "    protein_id = i['ids'][0]\n",
    "    del i['ids']  # Remove 'ids' to avoid passing it to the model\n",
    "    prediction = predict(finetuned_model, i)\n",
    "\n",
    "    baseline_prediction = np.load(f'/home/skrhakv/cryptic-nn/src/models/predict/predictions/baseline/{protein_id}.npy')\n",
    "    assert baseline_prediction.shape == prediction.shape, f\"Shape mismatch for {protein_id}: {baseline_prediction.shape} vs {prediction.shape}\"\n",
    "    np.save(f'/home/skrhakv/cryptic-nn/src/models/predict/predictions/baseline/{protein_id}.npy', prediction)\n",
    "    np.save(f'/home/skrhakv/cryptic-nn/src/models/predict/ground-truth/baseline/{protein_id}.npy', i['labels'])\n"
   ]
  }
 ],
 "metadata": {
  "kernelspec": {
   "display_name": "Python 3 (ipykernel)",
   "language": "python",
   "name": "python3"
  },
  "language_info": {
   "codemirror_mode": {
    "name": "ipython",
    "version": 3
   },
   "file_extension": ".py",
   "mimetype": "text/x-python",
   "name": "python",
   "nbconvert_exporter": "python",
   "pygments_lexer": "ipython3",
   "version": "3.12.7"
  }
 },
 "nbformat": 4,
 "nbformat_minor": 5
}
