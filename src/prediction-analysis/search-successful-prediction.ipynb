{
 "cells": [
  {
   "cell_type": "code",
   "execution_count": 3,
   "id": "9f28a76a",
   "metadata": {},
   "outputs": [
    {
     "name": "stdout",
     "output_type": "stream",
     "text": [
      "\u001b[34m5uxaA.npy: MCC Baseline: 0.4321, MCC Finetuned: 0.8154\n",
      "\u001b[34m7xgfE.npy: MCC Baseline: 0.1992, MCC Finetuned: 0.4608\n",
      "\u001b[34m5e0vA.npy: MCC Baseline: 0.2410, MCC Finetuned: 0.6908\n",
      "\u001b[34m7x0iB.npy: MCC Baseline: 0.4575, MCC Finetuned: 0.7406\n",
      "\u001b[34m5ysbB.npy: MCC Baseline: 0.4462, MCC Finetuned: 0.7245\n",
      "\u001b[34m2vl2C.npy: MCC Baseline: 0.5599, MCC Finetuned: 0.8335\n",
      "\u001b[34m1i7nA.npy: MCC Baseline: 0.5679, MCC Finetuned: 0.8985\n",
      "\u001b[34m1ksgB.npy: MCC Baseline: 0.0330, MCC Finetuned: 0.5006\n",
      "\u001b[34m3flgA.npy: MCC Baseline: 0.5238, MCC Finetuned: 0.8750\n",
      "\u001b[34m4gpiC.npy: MCC Baseline: 0.1643, MCC Finetuned: 0.6635\n",
      "\u001b[34m4dncB.npy: MCC Baseline: 0.3557, MCC Finetuned: 0.6304\n",
      "\u001b[34m2akaA.npy: MCC Baseline: 0.3543, MCC Finetuned: 0.7042\n",
      "\u001b[34m7kayA.npy: MCC Baseline: 0.2338, MCC Finetuned: 0.5263\n",
      "\u001b[34m7yjcA.npy: MCC Baseline: -0.0298, MCC Finetuned: 0.2756\n",
      "\u001b[34m1h13A.npy: MCC Baseline: 0.1188, MCC Finetuned: 0.5079\n",
      "\u001b[34m5ey7B.npy: MCC Baseline: 0.1773, MCC Finetuned: 0.4697\n",
      "\u001b[34m1xgdA.npy: MCC Baseline: 0.5405, MCC Finetuned: 0.7925\n",
      "\u001b[34m2vyrA.npy: MCC Baseline: 0.3214, MCC Finetuned: 0.7085\n",
      "\u001b[34m6du4A.npy: MCC Baseline: 0.3092, MCC Finetuned: 0.6332\n",
      "\u001b[34m6w10A.npy: MCC Baseline: 0.4039, MCC Finetuned: 0.7246\n"
     ]
    }
   ],
   "source": [
    "import os\n",
    "import numpy as np\n",
    "import sklearn.metrics as metrics\n",
    "os.system(\"\")\n",
    "def sigmoid(z):\n",
    "    return 1/(1 + np.exp(-z))\n",
    "\n",
    "BASELINE_PREDICTION_PATH = '/home/vit/Projects/cryptic-nn/src/models/predict/predictions/baseline'\n",
    "FINETUNED_PREDICTION_PATH = '/home/vit/Projects/cryptic-nn/src/models/predict/predictions/finetuned-multitask-with-ligysis'\n",
    "GROUND_TRUTH_PATH = '/home/vit/Projects/cryptic-nn/src/models/predict/ground-truth/baseline'\n",
    "for i in os.listdir(BASELINE_PREDICTION_PATH):\n",
    "    baseline_prediction = (sigmoid(np.load(os.path.join(BASELINE_PREDICTION_PATH, i))) > 0.95) * 1.0\n",
    "    finetuned_prediction = (np.load(os.path.join(FINETUNED_PREDICTION_PATH, i)) > 0.7) * 1.0\n",
    "    ground_truth = np.load(os.path.join(GROUND_TRUTH_PATH, i))\n",
    "    mcc_baseline = metrics.matthews_corrcoef(ground_truth, baseline_prediction)\n",
    "    mcc_finetuned = metrics.matthews_corrcoef(ground_truth, finetuned_prediction)\n",
    "    if mcc_finetuned - mcc_baseline > 0.25 and mcc_finetuned - mcc_baseline < 3:\n",
    "        print(('\\033[31m' if mcc_baseline - mcc_finetuned > 0 else '\\033[34m') + f\"{i}: MCC Baseline: {mcc_baseline:.4f}, MCC Finetuned: {mcc_finetuned:.4f}\")\n",
    "\n"
   ]
  },
  {
   "cell_type": "code",
   "execution_count": 1,
   "id": "b6db7af2",
   "metadata": {},
   "outputs": [
    {
     "name": "stderr",
     "output_type": "stream",
     "text": [
      "Gtk-Message: 16:25:40.611: Failed to load module \"pk-gtk-module\"\n",
      "Cannot open file '/home/vit/Projects/cryptic-nn/src/prediction-analysis/data/pymol/icons/icon2.svg', because: No such file or directory\n",
      "Cannot open file '/home/vit/Projects/cryptic-nn/src/prediction-analysis/data/pymol/icons/icon2.svg', because: No such file or directory\n"
     ]
    }
   ],
   "source": [
    "import sys\n",
    "import pymol\n",
    "_stdouterr = sys.stdout, sys.stderr\n",
    "pymol.finish_launching(['/usr/bin/pymol', '-q'])\n",
    "sys.stdout, sys.stderr = _stdouterr\n",
    "from pymol import cmd\n",
    "\n",
    "CIF_FILES = '/home/vit/Projects/deeplife-project/data/cif_files'\n"
   ]
  },
  {
   "cell_type": "code",
   "execution_count": 7,
   "id": "e92dd87e",
   "metadata": {},
   "outputs": [
    {
     "name": "stdout",
     "output_type": "stream",
     "text": [
      " Setting: fetch_path set to /home/vit/Projects/deeplife-project/data/cif_files.\n",
      " ExecutiveLoad-Detail: Detected mmCIF\n",
      "PyMOL>set opaque_background, 0\n",
      " Setting: opaque_background set to off.\n",
      "PyMOL>png /home/vit/Downloads/finetuned-RAS.png, 0, 0, -1, ray=1\n",
      " Ray: render time: 0.65 sec. = 5501.1 frames/hour (1.27 sec. accum.).\n",
      " ScenePNG: wrote 640x508 pixel image to file \"/home/vit/Downloads/finetuned-RAS.png\".\n"
     ]
    }
   ],
   "source": [
    "from biotite.structure import get_residues, get_residue_starts, spread_residue_wise\n",
    "from biotite.structure.io.pdbx import get_structure\n",
    "import biotite.structure.io.pdbx as pdbx\n",
    "import biotite.database.rcsb as rcsb\n",
    "import biotite\n",
    "\n",
    "proteins = [#'5e0vA', maybee good\n",
    "             #'1ksgB', \n",
    "             #'4gpiC', maybeee\n",
    "            # '5uxaA', \n",
    "            #'5e0vA',\n",
    "           #  '1i7nA',\n",
    "           # '1ksgB',\n",
    "            #'3flgA',\n",
    "           # '4gpiC',\n",
    "           #  '2akaA',\n",
    "            # '7yjcA', # missed by baseline!\n",
    "            # '1h13A',\n",
    "            # '2vyrA',\n",
    "            # '6du4A',\n",
    "           #  '6w10A',\n",
    "            # '5uxaA',\n",
    "# '7xgfE',\n",
    "# '5e0vA',\n",
    "# '7x0iB',\n",
    "# '5ysbB',\n",
    "# '2vl2C',\n",
    "# '1i7nA',\n",
    "'1ksgB', # also missed by baseline!\n",
    "'3flgA',\n",
    "'4gpiC',\n",
    "'4dncB',\n",
    "'2akaA',\n",
    "'7kayA',\n",
    "'7yjcA',\n",
    "'1h13A',\n",
    "'5ey7B',\n",
    "'1xgdA',\n",
    "'2vyrA',\n",
    "'6du4A',\n",
    "'6w10A',\n",
    "] \n",
    "\n",
    "# visualize = 'baseline'\n",
    "visualize = 'finetuning'\n",
    "\n",
    "for protein in proteins:\n",
    "    apo_structure = protein[:4]\n",
    "    chain_id = protein[4:]\n",
    "    prediction_filename = f'{protein}.npy'\n",
    "\n",
    "    cif_file_path = rcsb.fetch(apo_structure, \"cif\", target_path=CIF_FILES)\n",
    "    cif_file = pdbx.CIFFile.read(cif_file_path)\n",
    "    auth = get_structure(cif_file, model=1)\n",
    "\n",
    "    auth = auth[\n",
    "            (auth.chain_id == chain_id) &\n",
    "            (biotite.structure.filter_amino_acids(auth))]\n",
    "    auth_residues_only = auth[get_residue_starts(auth)]\n",
    "\n",
    "    baseline_prediction = (sigmoid(np.load(os.path.join(BASELINE_PREDICTION_PATH, prediction_filename))) > 0.95) * 1\n",
    "    finetuned_prediction = (np.load(os.path.join(FINETUNED_PREDICTION_PATH, prediction_filename)) > 0.7) * 1.0\n",
    "    ground_truth = np.load(os.path.join(GROUND_TRUTH_PATH, prediction_filename))\n",
    "\n",
    "    cmd.reinitialize()\n",
    "    cmd.set('fetch_path', cmd.exp_path(CIF_FILES), quiet=0)\n",
    "    cmd.fetch(protein)\n",
    "    cmd.zoom(protein)\n",
    "    cmd.color('brown', protein)\n",
    "\n",
    "    if visualize == 'baseline':\n",
    "        positive_indices = np.where(baseline_prediction == 1)\n",
    "    else:\n",
    "        positive_indices = np.where(finetuned_prediction == 1)\n",
    "\n",
    "    binding_residues = np.where(ground_truth == 1)\n",
    "    intersection = np.intersect1d(binding_residues, positive_indices)\n",
    "\n",
    "    if len(positive_indices) > 0:\n",
    "        cmd.color('red', f'{protein} and resid {\"+\".join([str(i) for i in auth_residues_only.res_id[positive_indices]])}')\n",
    "    if len(binding_residues) > 0:\n",
    "        cmd.color('yellow', f'{protein} and resid {\"+\".join([str(i) for i in auth_residues_only.res_id[binding_residues]])}')\n",
    "    if len(intersection) > 0:\n",
    "        cmd.color('green', f'{protein} and resid {\"+\".join([str(i) for i in auth_residues_only.res_id[intersection]])}')\n",
    "    cmd.show('surface')\n",
    "\n",
    "    decision = input(\">Press Enter for the next protein...\\n\")   \n",
    "    if decision == 'q':\n",
    "        break\n"
   ]
  }
 ],
 "metadata": {
  "kernelspec": {
   "display_name": "Python 3",
   "language": "python",
   "name": "python3"
  },
  "language_info": {
   "codemirror_mode": {
    "name": "ipython",
    "version": 3
   },
   "file_extension": ".py",
   "mimetype": "text/x-python",
   "name": "python",
   "nbconvert_exporter": "python",
   "pygments_lexer": "ipython3",
   "version": "3.11.6"
  }
 },
 "nbformat": 4,
 "nbformat_minor": 5
}
