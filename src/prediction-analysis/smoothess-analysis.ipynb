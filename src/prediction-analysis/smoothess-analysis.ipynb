{
 "cells": [
  {
   "cell_type": "code",
   "execution_count": null,
   "id": "21d4766d",
   "metadata": {},
   "outputs": [
    {
     "name": "stderr",
     "output_type": "stream",
     "text": [
      "Gtk-Message: 11:33:50.508: Failed to load module \"pk-gtk-module\"\n",
      "Cannot open file '/home/vit/Projects/cryptic-nn/src/prediction-analysis/data/pymol/icons/icon2.svg', because: No such file or directory\n",
      "Cannot open file '/home/vit/Projects/cryptic-nn/src/prediction-analysis/data/pymol/icons/icon2.svg', because: No such file or directory\n"
     ]
    },
    {
     "name": "stdout",
     "output_type": "stream",
     "text": [
      "Could not read PyMOL stylesheet.\n",
      "DEBUG: PYMOL_DATA='./data'\n",
      " Detected OpenGL version 4.6. Shaders available.\n",
      " Geometry shaders not available\n",
      " Detected GLSL version 4.60.\n",
      "PyMOL>set fetch_path, /home/vit/Projects/ahoj2-extraction/src/analysis/cif_files\n",
      " Setting: fetch_path set to /home/vit/Projects/ahoj2-extraction/src/analysis/cif_files.\n"
     ]
    }
   ],
   "source": [
    "import sys\n",
    "import pymol\n",
    "_stdouterr = sys.stdout, sys.stderr\n",
    "pymol.finish_launching(['/usr/bin/pymol', '-q'])\n",
    "sys.stdout, sys.stderr = _stdouterr\n",
    "\n",
    "# load something into the PyMOL window\n",
    "from pymol import cmd\n"
   ]
  },
  {
   "cell_type": "code",
   "execution_count": null,
   "id": "01eadd1e",
   "metadata": {},
   "outputs": [
    {
     "name": "stdout",
     "output_type": "stream",
     "text": [
      " Setting: fetch_path set to /home/vit/Projects/deeplife-project/data/cif_files.\n",
      " ExecutiveLoad-Detail: Detected mmCIF\n",
      " Setting: fetch_path set to /home/vit/Projects/deeplife-project/data/cif_files.\n",
      " ExecutiveLoad-Detail: Detected mmCIF\n"
     ]
    }
   ],
   "source": [
    "import os\n",
    "import numpy as np\n",
    "\n",
    "from biotite.structure import get_residues, get_residue_starts, spread_residue_wise\n",
    "from biotite.structure.io.pdbx import get_structure\n",
    "import biotite.structure.io.pdbx as pdbx\n",
    "import biotite.database.rcsb as rcsb\n",
    "import biotite\n",
    "import csv\n",
    "\n",
    "THRESHOLD = 0.8 # determined according to the F1 score (other thresholds were: [0.1, 0.2, 0.3, 0.4, 0.5, 0.6, 0.7, 0.9])\n",
    "DATA_PATH = '/home/vit/Projects/cryptic-nn/data/cryptobench'\n",
    "# PREDICTIONS_PATH = f'{DATA_PATH}/smoothness-prediction'\n",
    "PREDICTIONS_PATH = '/home/vit/Projects/cryptic-nn/data/predictions/ESM2-3B-extended-finetuning/smoothen-predictions'\n",
    "CIF_FILES = '/home/vit/Projects/deeplife-project/data/cif_files'\n",
    "\n",
    "with open('/home/vit/Projects/cryptic-nn/data/predictions/ESM2-3B-extended-finetuning/predictions.csv') as f:\n",
    "    should_skip = True\n",
    "    reader = csv.reader(f, delimiter=';')\n",
    "    for row in reader:\n",
    "        apo_structure = row[0]\n",
    "        chain_id = row[1]\n",
    "        protein_id = apo_structure + chain_id\n",
    "\n",
    "        if protein_id != '5b0eB' and should_skip:\n",
    "            continue\n",
    "        should_skip = False\n",
    "        \n",
    "        binding_residues = [int(i[1:]) for i in row[3].split(' ')]\n",
    "\n",
    "        predictions = np.load(f'{PREDICTIONS_PATH}/{protein_id}.npy', allow_pickle=True).item()\n",
    "        predictions, indices = predictions['predictions'], predictions['indices']\n",
    "        \n",
    "        positive_indices = indices[predictions > THRESHOLD]\n",
    "        negative_indices = indices[predictions <= THRESHOLD]\n",
    "\n",
    "        cif_file_path = rcsb.fetch(apo_structure, \"cif\", target_path=CIF_FILES)\n",
    "        cif_file = pdbx.CIFFile.read(cif_file_path)\n",
    "        auth = get_structure(cif_file, model=1)\n",
    "\n",
    "        auth = auth[\n",
    "                (auth.chain_id == chain_id) &\n",
    "                (biotite.structure.filter_amino_acids(auth))]\n",
    "        auth_residues_only = auth[get_residue_starts(auth)]\n",
    "\n",
    "        cmd.reinitialize()\n",
    "        cmd.set('fetch_path', cmd.exp_path(CIF_FILES), quiet=0)\n",
    "        cmd.fetch(protein_id)\n",
    "        cmd.zoom(protein_id)\n",
    "        cmd.color('grey', protein_id)\n",
    "\n",
    "        if len(positive_indices) > 0:\n",
    "            cmd.color('green', f'{protein_id} and resid {\"+\".join([str(i) for i in auth_residues_only.res_id[positive_indices]])}')\n",
    "        cmd.color('red', f'{protein_id} and resid {\"+\".join([str(i) for i in auth_residues_only.res_id[negative_indices]])}')\n",
    "\n",
    "        intersection = np.intersect1d(binding_residues, positive_indices)\n",
    "        if len(intersection) > 0:\n",
    "            cmd.color('lightblue', f'{protein_id} and resid {\"+\".join([str(i) for i in auth_residues_only.res_id[intersection]])}')\n",
    "        cmd.color('blue', f'{protein_id} and resid {\"+\".join([str(i) for i in auth_residues_only.res_id[binding_residues]])}')\n",
    "        cmd.show('surface')\n",
    "        decision = input(\">Press Enter for the next protein...\\n\")\n",
    "        if decision == 'q':\n",
    "            break"
   ]
  }
 ],
 "metadata": {
  "kernelspec": {
   "display_name": "Python 3",
   "language": "python",
   "name": "python3"
  },
  "language_info": {
   "codemirror_mode": {
    "name": "ipython",
    "version": 3
   },
   "file_extension": ".py",
   "mimetype": "text/x-python",
   "name": "python",
   "nbconvert_exporter": "python",
   "pygments_lexer": "ipython3",
   "version": "3.11.6"
  }
 },
 "nbformat": 4,
 "nbformat_minor": 5
}
